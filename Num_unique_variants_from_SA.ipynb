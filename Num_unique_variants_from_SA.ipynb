{
 "cells": [
  {
   "cell_type": "code",
   "execution_count": 8,
   "id": "4009b9fa-3ab0-4087-aa92-2e02581f9ad1",
   "metadata": {},
   "outputs": [
    {
     "name": "stdout",
     "output_type": "stream",
     "text": [
      "     Trial   Fitness                       Mutations  \\\n",
      "0  Trial 0  4.734603  (D18K, T33M, E48K, E49R, Q68C)   \n",
      "2  Trial 2  4.679494   (H8I, D18K, T33M, E49R, Q68C)   \n",
      "5  Trial 5  4.705430  (D18T, S21L, T33M, E49R, Q68C)   \n",
      "6  Trial 6  4.635094  (D18K, S21L, T33C, E48K, Q68C)   \n",
      "8  Trial 8  4.661308  (D18K, F20M, E48K, E49R, Q68C)   \n",
      "\n",
      "                                            Sequence  \n",
      "0  GNIFIKNLHPDIDNKALYKTFSVFGDILSSKIAMDENGKSKGFGFV...  \n",
      "2  GNIFIKNLIPDIDNKALYKTFSVFGDILSSKIAMDENGKSKGFGFV...  \n",
      "5  GNIFIKNLHPDIDNKALYTTFLVFGDILSSKIAMDENGKSKGFGFV...  \n",
      "6  GNIFIKNLHPDIDNKALYKTFLVFGDILSSKIACDENGKSKGFGFV...  \n",
      "8  GNIFIKNLHPDIDNKALYKTMSVFGDILSSKIATDENGKSKGFGFV...  \n",
      "Number of unique sequences: 43\n"
     ]
    }
   ],
   "source": [
    "import pandas as pd\n",
    "\n",
    "# Load the pickle file\n",
    "unique_sequences_df = pd.read_pickle('unique_optimized_designs_from_simulated_annealing.pkl')\n",
    "\n",
    "# Display the first few rows\n",
    "print(unique_sequences_df.head())\n",
    "\n",
    "# Count the number of unique sequences\n",
    "num_unique_sequences = unique_sequences_df['Sequence'].nunique()\n",
    "print(f'Number of unique sequences: {num_unique_sequences}')\n"
   ]
  },
  {
   "cell_type": "code",
   "execution_count": null,
   "id": "12bfa178-e61d-49d0-ab39-72aae491875a",
   "metadata": {},
   "outputs": [],
   "source": []
  },
  {
   "cell_type": "code",
   "execution_count": null,
   "id": "088f56a8-b4e6-4544-8465-67df72f87298",
   "metadata": {},
   "outputs": [],
   "source": []
  }
 ],
 "metadata": {
  "kernelspec": {
   "display_name": "Python 3 (ipykernel)",
   "language": "python",
   "name": "python3"
  },
  "language_info": {
   "codemirror_mode": {
    "name": "ipython",
    "version": 3
   },
   "file_extension": ".py",
   "mimetype": "text/x-python",
   "name": "python",
   "nbconvert_exporter": "python",
   "pygments_lexer": "ipython3",
   "version": "3.8.18"
  }
 },
 "nbformat": 4,
 "nbformat_minor": 5
}
