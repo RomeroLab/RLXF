{
 "cells": [
  {
   "cell_type": "code",
   "execution_count": 6,
   "id": "4009b9fa-3ab0-4087-aa92-2e02581f9ad1",
   "metadata": {},
   "outputs": [
    {
     "name": "stdout",
     "output_type": "stream",
     "text": [
      "     Trial   Fitness                            Mutations  \\\n",
      "0  Trial 0  3.945838     (T8N, Y38N, N104Y, Q156K, V162G)   \n",
      "1  Trial 1  3.962952  (N104Y, Q156K, V162G, D179E, L235V)   \n",
      "2  Trial 2  3.960179  (N104F, Q156K, V162G, D179E, T229G)   \n",
      "3  Trial 3  3.963179  (N104Y, I127A, Q156K, V162G, L235V)   \n",
      "4  Trial 4  3.964853  (N104F, I127A, V162G, D179E, L235V)   \n",
      "\n",
      "                                            Sequence  \n",
      "0  MSKGEELFNGVVPILVELDGDVNGHKFSVSGEGEGDATNGKLTLKF...  \n",
      "1  MSKGEELFTGVVPILVELDGDVNGHKFSVSGEGEGDATYGKLTLKF...  \n",
      "2  MSKGEELFTGVVPILVELDGDVNGHKFSVSGEGEGDATYGKLTLKF...  \n",
      "3  MSKGEELFTGVVPILVELDGDVNGHKFSVSGEGEGDATYGKLTLKF...  \n",
      "4  MSKGEELFTGVVPILVELDGDVNGHKFSVSGEGEGDATYGKLTLKF...  \n",
      "Number of unique sequences: 73\n"
     ]
    }
   ],
   "source": [
    "import pandas as pd\n",
    "\n",
    "# Load the pickle file\n",
    "unique_sequences_df = pd.read_pickle('unique_optimized_designs_from_simulated_annealing.pkl')\n",
    "\n",
    "# Display the first few rows\n",
    "print(unique_sequences_df.head())\n",
    "\n",
    "# Count the number of unique sequences\n",
    "num_unique_sequences = unique_sequences_df['Sequence'].nunique()\n",
    "print(f'Number of unique sequences: {num_unique_sequences}')\n"
   ]
  },
  {
   "cell_type": "code",
   "execution_count": null,
   "id": "12bfa178-e61d-49d0-ab39-72aae491875a",
   "metadata": {},
   "outputs": [],
   "source": []
  }
 ],
 "metadata": {
  "kernelspec": {
   "display_name": "Python 3 (ipykernel)",
   "language": "python",
   "name": "python3"
  },
  "language_info": {
   "codemirror_mode": {
    "name": "ipython",
    "version": 3
   },
   "file_extension": ".py",
   "mimetype": "text/x-python",
   "name": "python",
   "nbconvert_exporter": "python",
   "pygments_lexer": "ipython3",
   "version": "3.8.18"
  }
 },
 "nbformat": 4,
 "nbformat_minor": 5
}
