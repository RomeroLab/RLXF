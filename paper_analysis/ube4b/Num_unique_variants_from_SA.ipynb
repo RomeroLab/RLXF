{
 "cells": [
  {
   "cell_type": "code",
   "execution_count": 7,
   "id": "4009b9fa-3ab0-4087-aa92-2e02581f9ad1",
   "metadata": {},
   "outputs": [
    {
     "name": "stdout",
     "output_type": "stream",
     "text": [
      "     Trial   Fitness                       Mutations  \\\n",
      "0  Trial 0  2.035190   (A7E, Y24D, M52L, D67N, N70T)   \n",
      "1  Trial 1  1.972566  (R19Q, M52L, D67N, N70T, K96N)   \n",
      "2  Trial 2  1.958412  (R19W, Y24D, D37Y, M52L, D67N)   \n",
      "3  Trial 3  1.997354  (R19Q, D37Y, M52L, D67N, N70T)   \n",
      "4  Trial 4  2.058548  (Y24D, D37Y, M52L, D67N, N70T)   \n",
      "\n",
      "                                            Sequence  \n",
      "0  IEKFKLLEEKVEEIVAKNARAEIDDSDAPDEFRDPLMDTLMTDPVR...  \n",
      "1  IEKFKLLAEKVEEIVAKNAQAEIDYSDAPDEFRDPLMDTLMTDPVR...  \n",
      "2  IEKFKLLAEKVEEIVAKNAWAEIDDSDAPDEFRDPLMYTLMTDPVR...  \n",
      "3  IEKFKLLAEKVEEIVAKNAQAEIDYSDAPDEFRDPLMYTLMTDPVR...  \n",
      "4  IEKFKLLAEKVEEIVAKNARAEIDDSDAPDEFRDPLMYTLMTDPVR...  \n",
      "Number of unique sequences: 24\n"
     ]
    }
   ],
   "source": [
    "import pandas as pd\n",
    "\n",
    "# Load the pickle file\n",
    "unique_sequences_df = pd.read_pickle('unique_optimized_designs_from_simulated_annealing.pkl')\n",
    "\n",
    "# Display the first few rows\n",
    "print(unique_sequences_df.head())\n",
    "\n",
    "# Count the number of unique sequences\n",
    "num_unique_sequences = unique_sequences_df['Sequence'].nunique()\n",
    "print(f'Number of unique sequences: {num_unique_sequences}')\n"
   ]
  },
  {
   "cell_type": "code",
   "execution_count": null,
   "id": "12bfa178-e61d-49d0-ab39-72aae491875a",
   "metadata": {},
   "outputs": [],
   "source": []
  },
  {
   "cell_type": "code",
   "execution_count": null,
   "id": "088f56a8-b4e6-4544-8465-67df72f87298",
   "metadata": {},
   "outputs": [],
   "source": []
  }
 ],
 "metadata": {
  "kernelspec": {
   "display_name": "Python 3 (ipykernel)",
   "language": "python",
   "name": "python3"
  },
  "language_info": {
   "codemirror_mode": {
    "name": "ipython",
    "version": 3
   },
   "file_extension": ".py",
   "mimetype": "text/x-python",
   "name": "python",
   "nbconvert_exporter": "python",
   "pygments_lexer": "ipython3",
   "version": "3.8.18"
  }
 },
 "nbformat": 4,
 "nbformat_minor": 5
}
